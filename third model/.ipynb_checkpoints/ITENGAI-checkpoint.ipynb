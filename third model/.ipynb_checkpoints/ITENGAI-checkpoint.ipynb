{
 "cells": [
  {
   "cell_type": "markdown",
   "id": "4ad91b0c-35fa-41fb-a916-71ffe2a28ed1",
   "metadata": {
    "tags": []
   },
   "source": [
    "## Importing Libraries"
   ]
  },
  {
   "cell_type": "code",
   "execution_count": 3,
   "id": "37aa364d-c7f0-416b-8359-7a92f6054b8f",
   "metadata": {
    "tags": []
   },
   "outputs": [],
   "source": [
    "import torch\n",
    "import torch.nn as nn\n",
    "from torch.utils.data import DataLoader\n",
    "import torch.optim as optim"
   ]
  },
  {
   "cell_type": "markdown",
   "id": "53084ad7-22e0-41e0-a124-ee41b2f892eb",
   "metadata": {},
   "source": [
    "## Importing Data"
   ]
  },
  {
   "cell_type": "code",
   "execution_count": 5,
   "id": "7d374b54-f562-473a-be43-e5b17aa2ab8d",
   "metadata": {
    "tags": []
   },
   "outputs": [],
   "source": [
    "def get_list(file_path):\n",
    "    data = []\n",
    "    with open(file_path, 'r') as file:\n",
    "        for line in file:\n",
    "            word, label = line.strip().split()\n",
    "            data.append((word, int(label)))\n",
    "    return data"
   ]
  },
  {
   "cell_type": "code",
   "execution_count": 6,
   "id": "c03a38b5-aebe-4548-a9c3-c7623cb9dbd0",
   "metadata": {
    "tags": []
   },
   "outputs": [],
   "source": [
    "def string_to_tensor(s):\n",
    "    tensor  = torch.zeros(15, 26, dtype = torch.float32)\n",
    "    for i, c in enumerate(s):\n",
    "        tensor[i, ord(c) - ord('a')] = 1\n",
    "    return tensor"
   ]
  },
  {
   "cell_type": "code",
   "execution_count": 7,
   "id": "9a6d5348-87ab-484a-9ac7-15e791b5e044",
   "metadata": {
    "tags": []
   },
   "outputs": [],
   "source": [
    "def process_data(file_path):\n",
    "    data = get_list(file_path)\n",
    "    processed_data = [(string_to_tensor(word), float(class_id)) for word, class_id in data]\n",
    "    return processed_data"
   ]
  },
  {
   "cell_type": "code",
   "execution_count": 8,
   "id": "1b0d2d78-a866-44ce-9982-b261bd50fe62",
   "metadata": {
    "tags": []
   },
   "outputs": [],
   "source": [
    "train_data = process_data('training_set.txt')\n",
    "TrainDataLoader = DataLoader(train_data, batch_size=256, shuffle=True)\n",
    "test_data = process_data('test_set.txt')\n",
    "TestDataLoader = DataLoader(test_data, batch_size=256, shuffle=False)"
   ]
  },
  {
   "cell_type": "markdown",
   "id": "06953ec3-ebc0-4e02-a49d-1f38cd5a65b3",
   "metadata": {},
   "source": [
    "## Model Class"
   ]
  },
  {
   "cell_type": "code",
   "execution_count": 10,
   "id": "b48b9b38-8dd5-49d6-bba1-c1a9d7e9719d",
   "metadata": {
    "tags": []
   },
   "outputs": [],
   "source": [
    "class MyRNN(nn.Module):\n",
    "    \n",
    "    def __init__(self, input_size, hidden_size, output_size, device):\n",
    "        super(MyRNN, self).__init__()\n",
    "        self.input_size = input_size\n",
    "        self.hidden_size = hidden_size\n",
    "        \n",
    "        self.rnn_1 = nn.RNN(input_size, hidden_size, batch_first = True)\n",
    "        self.rnn_2 = nn.RNN(hidden_size, hidden_size, batch_first = True)\n",
    "        self.fcl = nn.Linear(hidden_size, output_size)\n",
    "        self.sigmoid = nn.Sigmoid()\n",
    "        \n",
    "    def forward(self, x):\n",
    "        h0 = torch.zeros(1, x.size(0), self.hidden_size).to(device)\n",
    "        out, _ = self.rnn_1(x, h0)\n",
    "        out, _ = self.rnn_2(out, h0)\n",
    "        out = self.fcl(out)\n",
    "        out = self.sigmoid(out)\n",
    "        return out"
   ]
  },
  {
   "cell_type": "markdown",
   "id": "e2cf5af8-f047-461f-93fe-1496a761bd1f",
   "metadata": {},
   "source": [
    "## Model Declaration"
   ]
  },
  {
   "cell_type": "code",
   "execution_count": 12,
   "id": "e8d3c52b-ef33-4c1d-8177-f8a1418e498d",
   "metadata": {
    "tags": []
   },
   "outputs": [],
   "source": [
    "input_size = 26\n",
    "hidden_size = 60\n",
    "output_size = 1\n",
    "device = ('cuda' if torch.cuda.is_available() else 'cpu')"
   ]
  },
  {
   "cell_type": "code",
   "execution_count": 13,
   "id": "8209e27e-0943-4fbf-9573-d36d8a839c92",
   "metadata": {
    "tags": []
   },
   "outputs": [
    {
     "data": {
      "text/plain": [
       "MyRNN(\n",
       "  (rnn_1): RNN(26, 60, batch_first=True)\n",
       "  (rnn_2): RNN(60, 60, batch_first=True)\n",
       "  (fcl): Linear(in_features=60, out_features=1, bias=True)\n",
       "  (sigmoid): Sigmoid()\n",
       ")"
      ]
     },
     "execution_count": 13,
     "metadata": {},
     "output_type": "execute_result"
    }
   ],
   "source": [
    "model = MyRNN(input_size, hidden_size, output_size, device)\n",
    "model.to(device)"
   ]
  },
  {
   "cell_type": "markdown",
   "id": "fdb328df-f9bf-463d-8df2-dba79ba578a2",
   "metadata": {},
   "source": [
    "## Eval function"
   ]
  },
  {
   "cell_type": "code",
   "execution_count": 15,
   "id": "3d2939c7-09ff-4fc9-a74f-a2b4a091dd98",
   "metadata": {
    "tags": []
   },
   "outputs": [],
   "source": [
    "def calculate_accuracy(model, dataloader):\n",
    "    model.eval()\n",
    "    correct = 0\n",
    "    total = 0\n",
    "    \n",
    "    with torch.no_grad():\n",
    "        for inputs, labels in dataloader:\n",
    "            inputs, labels = inputs.to(device), labels.to(device)\n",
    "            outputs = model(inputs)\n",
    "            outputs = outputs[:, -1, :]\n",
    "            predicted = (outputs > 0.5).float()\n",
    "            labels = labels.view(-1, 1)\n",
    "            \n",
    "            correct += (predicted == labels).sum().item()\n",
    "            total += labels.size(0)\n",
    "    \n",
    "        accuracy = (correct / total) * 100\n",
    "        print(f'   Accuracy: {accuracy:.2f}%')\n",
    "\n",
    "    return accuracy"
   ]
  },
  {
   "cell_type": "code",
   "execution_count": 16,
   "id": "e6d0ee75-5602-449b-a06a-51f9ed8c16bb",
   "metadata": {
    "tags": []
   },
   "outputs": [
    {
     "name": "stdout",
     "output_type": "stream",
     "text": [
      "   Accuracy: 50.19%\n"
     ]
    }
   ],
   "source": [
    "start_accuracy = calculate_accuracy(model, TestDataLoader)"
   ]
  },
  {
   "cell_type": "markdown",
   "id": "a7f97a62-5e4b-42b1-88af-70e7f98f7130",
   "metadata": {},
   "source": [
    "## Training Loop"
   ]
  },
  {
   "cell_type": "code",
   "execution_count": 18,
   "id": "eb7063dd-0956-425d-8c5a-60dc9d354352",
   "metadata": {
    "tags": []
   },
   "outputs": [],
   "source": [
    "num_epochs = 500\n",
    "criterion = nn.MSELoss()\n",
    "optimizer = optim.Adam(model.parameters(), lr=0.0001)"
   ]
  },
  {
   "cell_type": "code",
   "execution_count": 19,
   "id": "7ac5d8c9-5464-4b0c-b86d-3ea795d03463",
   "metadata": {
    "tags": []
   },
   "outputs": [
    {
     "name": "stdout",
     "output_type": "stream",
     "text": [
      "Epoch [50/500], Loss: 0.1364\n",
      "   Accuracy: 81.59%\n",
      "Epoch [100/500], Loss: 0.1252\n",
      "   Accuracy: 85.04%\n",
      "Epoch [150/500], Loss: 0.1236\n",
      "   Accuracy: 87.07%\n",
      "Epoch [200/500], Loss: 0.0845\n",
      "   Accuracy: 88.44%\n",
      "Epoch [250/500], Loss: 0.0621\n",
      "   Accuracy: 88.85%\n",
      "Epoch [300/500], Loss: 0.0588\n",
      "   Accuracy: 89.11%\n",
      "Epoch [350/500], Loss: 0.0748\n",
      "   Accuracy: 89.30%\n",
      "Epoch [400/500], Loss: 0.0851\n",
      "   Accuracy: 89.37%\n",
      "Epoch [450/500], Loss: 0.0667\n",
      "   Accuracy: 89.37%\n",
      "Epoch [500/500], Loss: 0.0630\n",
      "   Accuracy: 89.52%\n"
     ]
    }
   ],
   "source": [
    "for epoch in range(num_epochs):\n",
    "    model.train()\n",
    "    for inputs, labels in TrainDataLoader:\n",
    "        inputs, labels = inputs.to(device), labels.to(device)\n",
    "        optimizer.zero_grad()\n",
    "        \n",
    "        outputs = model(inputs)\n",
    "        outputs = outputs[:, -1, :]\n",
    "        outputs = outputs.view(-1)\n",
    "\n",
    "        outputs = outputs.float()\n",
    "        labels = labels.float()\n",
    "        loss = criterion(outputs, labels)\n",
    "\n",
    "        loss.backward()\n",
    "        optimizer.step()\n",
    "\n",
    "    if ((epoch+1)%50 == 0):\n",
    "        print(f\"Epoch [{epoch+1}/{num_epochs}], Loss: {loss.item():.4f}\")\n",
    "        calculate_accuracy(model, TestDataLoader)"
   ]
  }
 ],
 "metadata": {
  "kernelspec": {
   "display_name": "Python 3 (ipykernel)",
   "language": "python",
   "name": "python3"
  },
  "language_info": {
   "codemirror_mode": {
    "name": "ipython",
    "version": 3
   },
   "file_extension": ".py",
   "mimetype": "text/x-python",
   "name": "python",
   "nbconvert_exporter": "python",
   "pygments_lexer": "ipython3",
   "version": "3.11.7"
  }
 },
 "nbformat": 4,
 "nbformat_minor": 5
}
