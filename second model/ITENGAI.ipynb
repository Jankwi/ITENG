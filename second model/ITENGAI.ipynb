{
 "cells": [
  {
   "cell_type": "code",
   "execution_count": 1,
   "id": "0020fc5d-b2ae-4580-935e-05ceba239517",
   "metadata": {},
   "outputs": [],
   "source": [
    "import torch\n",
    "import pandas as pd"
   ]
  },
  {
   "cell_type": "code",
   "execution_count": 2,
   "id": "f20f40cd-b770-40bd-832d-3f3e95a9c2ef",
   "metadata": {},
   "outputs": [],
   "source": [
    "def import_data(file_name):\n",
    "    data = pd.read_csv(file_name)\n",
    "    print(data.shape)\n",
    "    tensor = torch.tensor(data.values)\n",
    "    tensor = tensor.float()\n",
    "    return tensor\n",
    "def normalize(X):\n",
    "    return X/100"
   ]
  },
  {
   "cell_type": "code",
   "execution_count": 3,
   "id": "1830f3fd-a136-438c-b103-a626b3d7596f",
   "metadata": {},
   "outputs": [],
   "source": [
    "def custom_rand(a, b):\n",
    "    X = torch.rand(a, b)\n",
    "    return (2*X-1)\n",
    "def init_params(layers_dims):\n",
    "    params = dict()\n",
    "    for i in range(1, len(layers_dims)):\n",
    "        print(i)\n",
    "        params['W' + str(i)] = custom_rand(layers_dims[i-1], layers_dims[i])\n",
    "        params['b' + str(i)] = custom_rand(1, layers_dims[i])\n",
    "    return params"
   ]
  },
  {
   "cell_type": "code",
   "execution_count": 4,
   "id": "d21f92f9-2afe-4cd4-b0da-e6a709f0554d",
   "metadata": {},
   "outputs": [],
   "source": [
    "def sigmoid(X):\n",
    "    Z = 1/(1 + torch.exp(-X))\n",
    "    return Z"
   ]
  },
  {
   "cell_type": "code",
   "execution_count": 5,
   "id": "52cf4998-b42d-407f-9ee2-9bed6746a6ac",
   "metadata": {},
   "outputs": [],
   "source": [
    "def grads_on(params):\n",
    "    for key in params:\n",
    "        params[key].requires_grad = True\n",
    "    return params\n",
    "def update_params(params, step_size):\n",
    "    for key in params:\n",
    "        with torch.no_grad():\n",
    "            if(params[key].requires_grad == False):\n",
    "                print(\"ERROOOOOOOOOORRR REQUIRES GRAD SET TO 0\")\n",
    "            params[key] -= step_size * params[key].grad\n",
    "            params[key].grad.zero_()\n",
    "\n",
    "    return params"
   ]
  },
  {
   "cell_type": "code",
   "execution_count": 6,
   "id": "54bacfe5-c5f0-4f97-aab5-2e86f7eaa08a",
   "metadata": {},
   "outputs": [],
   "source": [
    "def iteration(X, Y, params, L, step_size, print_cost):\n",
    "    params = grads_on(params)\n",
    "    A = X\n",
    "    m = X.shape[0]\n",
    "    for l in range(1, L):\n",
    "        Z = A@params['W' + str(l)] + params['b' + str(l)]\n",
    "        A = torch.tanh(Z)\n",
    "    Z = A@params['W' + str(L)] + params['b' + str(L)]\n",
    "    A = sigmoid(Z)\n",
    "    A = torch.clamp(A, min=1e-8)\n",
    "    A = torch.clamp(A, max=1 - 1e-8)\n",
    "    loss_table = -(Y*torch.log(A) + (1-Y)*torch.log(1-A))\n",
    "    cost = loss_table.sum()/m\n",
    "    if print_cost:\n",
    "        print(\"THE CURRENT COST IS \", cost.item())\n",
    "   # with torch.autograd.detect_anomaly():\n",
    "    cost.backward()\n",
    "    return update_params(params, step_size)"
   ]
  },
  {
   "cell_type": "code",
   "execution_count": 7,
   "id": "77ee832d-6d16-46a6-812d-977f7d113e16",
   "metadata": {},
   "outputs": [],
   "source": [
    "def predict(X, Y, params, L, str_type):\n",
    "    A = X\n",
    "    m = X.shape[0]\n",
    "    for l in range(1, L):\n",
    "        Z = A@params['W' + str(l)] + params['b' + str(l)]\n",
    "        A = torch.tanh(Z)\n",
    "    Z = A@params['W' + str(L)] + params['b' + str(L)]\n",
    "    A = sigmoid(Z)\n",
    "    #print(\"AAAAAAAAAAAA \", A)\n",
    "    \n",
    "    loss_table = -(Y*torch.log(A) + (1-Y)*torch.log(1-A))\n",
    "    cost = loss_table.sum()/m\n",
    "    Y_hat = torch.ceil(A/0.5) - 1\n",
    "    incorrect = torch.abs(Y_hat - Y)\n",
    "    gg = m - incorrect.sum()\n",
    "    #print(\"THE TESTING COST IS \", cost.item())\n",
    "    #print(\"The Model made \", gg.item(), \" good predictions\")\n",
    "    print(\"(\", 100*gg.item()/m, \"%\", str_type,\"accuracy)\")"
   ]
  },
  {
   "cell_type": "code",
   "execution_count": 8,
   "id": "da8765e7-fd38-4a08-976f-ecfa87707d06",
   "metadata": {},
   "outputs": [
    {
     "name": "stdout",
     "output_type": "stream",
     "text": [
      "1\n",
      "2\n",
      "3\n",
      "4\n"
     ]
    }
   ],
   "source": [
    "layers_dims = [780, 60, 50, 40, 1]\n",
    "params = init_params(layers_dims)\n",
    "#print(params)"
   ]
  },
  {
   "cell_type": "code",
   "execution_count": 9,
   "id": "bea41b4a-9fff-4141-8bfe-a5ab2f81184a",
   "metadata": {},
   "outputs": [
    {
     "name": "stdout",
     "output_type": "stream",
     "text": [
      "(2700, 780)\n",
      "(2700, 1)\n",
      "(2000, 780)\n",
      "(2000, 1)\n"
     ]
    }
   ],
   "source": [
    "train_X = import_data(\"train_X.csv\")\n",
    "train_Y = import_data(\"train_Y.csv\")\n",
    "test_X = import_data(\"test_X.csv\")\n",
    "test_Y = import_data(\"test_Y.csv\")"
   ]
  },
  {
   "cell_type": "code",
   "execution_count": 10,
   "id": "c03c0f90-86d9-4332-983f-f3851220008e",
   "metadata": {},
   "outputs": [
    {
     "name": "stdout",
     "output_type": "stream",
     "text": [
      "THE CURRENT COST IS  1.6185338497161865\n"
     ]
    }
   ],
   "source": [
    "params = iteration(train_X, train_Y, params, len(layers_dims)-1, 0.000001, 1)"
   ]
  },
  {
   "cell_type": "code",
   "execution_count": 13,
   "id": "1ac19dbe-d1c3-4b82-a886-83df7e0b737a",
   "metadata": {},
   "outputs": [
    {
     "name": "stdout",
     "output_type": "stream",
     "text": [
      "EPOCH  0\n",
      "THE CURRENT COST IS  0.029540836811065674\n",
      "( 99.96296296296296 % training accuracy)\n",
      "( 59.3 % testing accuracy)\n",
      "EPOCH  500\n",
      "THE CURRENT COST IS  0.028237968683242798\n",
      "( 99.96296296296296 % training accuracy)\n",
      "( 59.4 % testing accuracy)\n",
      "EPOCH  1000\n",
      "THE CURRENT COST IS  0.02702975831925869\n",
      "( 99.96296296296296 % training accuracy)\n",
      "( 59.4 % testing accuracy)\n",
      "EPOCH  1500\n",
      "THE CURRENT COST IS  0.025906739756464958\n",
      "( 99.96296296296296 % training accuracy)\n",
      "( 59.35 % testing accuracy)\n"
     ]
    },
    {
     "ename": "KeyboardInterrupt",
     "evalue": "",
     "output_type": "error",
     "traceback": [
      "\u001b[1;31m---------------------------------------------------------------------------\u001b[0m",
      "\u001b[1;31mKeyboardInterrupt\u001b[0m                         Traceback (most recent call last)",
      "Cell \u001b[1;32mIn[13], line 4\u001b[0m\n\u001b[0;32m      2\u001b[0m \u001b[38;5;28;01mif\u001b[39;00m (i\u001b[38;5;241m%\u001b[39m\u001b[38;5;241m500\u001b[39m \u001b[38;5;241m==\u001b[39m \u001b[38;5;241m0\u001b[39m):\n\u001b[0;32m      3\u001b[0m     \u001b[38;5;28mprint\u001b[39m(\u001b[38;5;124m\"\u001b[39m\u001b[38;5;124mEPOCH \u001b[39m\u001b[38;5;124m\"\u001b[39m, i)\n\u001b[1;32m----> 4\u001b[0m params \u001b[38;5;241m=\u001b[39m iteration(train_X, train_Y, params, \u001b[38;5;28mlen\u001b[39m(layers_dims)\u001b[38;5;241m-\u001b[39m\u001b[38;5;241m1\u001b[39m, \u001b[38;5;241m0.01\u001b[39m, (i\u001b[38;5;241m%\u001b[39m\u001b[38;5;241m500\u001b[39m \u001b[38;5;241m==\u001b[39m \u001b[38;5;241m0\u001b[39m))\n\u001b[0;32m      5\u001b[0m \u001b[38;5;28;01mif\u001b[39;00m (i\u001b[38;5;241m%\u001b[39m\u001b[38;5;241m500\u001b[39m \u001b[38;5;241m==\u001b[39m \u001b[38;5;241m0\u001b[39m):\n\u001b[0;32m      6\u001b[0m     predict(train_X, train_Y, params, \u001b[38;5;28mlen\u001b[39m(layers_dims)\u001b[38;5;241m-\u001b[39m\u001b[38;5;241m1\u001b[39m, \u001b[38;5;124m\"\u001b[39m\u001b[38;5;124mtraining\u001b[39m\u001b[38;5;124m\"\u001b[39m)\n",
      "Cell \u001b[1;32mIn[6], line 17\u001b[0m, in \u001b[0;36miteration\u001b[1;34m(X, Y, params, L, step_size, print_cost)\u001b[0m\n\u001b[0;32m     15\u001b[0m      \u001b[38;5;28mprint\u001b[39m(\u001b[38;5;124m\"\u001b[39m\u001b[38;5;124mTHE CURRENT COST IS \u001b[39m\u001b[38;5;124m\"\u001b[39m, cost\u001b[38;5;241m.\u001b[39mitem())\n\u001b[0;32m     16\u001b[0m \u001b[38;5;66;03m# with torch.autograd.detect_anomaly():\u001b[39;00m\n\u001b[1;32m---> 17\u001b[0m  cost\u001b[38;5;241m.\u001b[39mbackward()\n\u001b[0;32m     18\u001b[0m  \u001b[38;5;28;01mreturn\u001b[39;00m update_params(params, step_size)\n",
      "File \u001b[1;32m~\\anaconda3\\Lib\\site-packages\\torch\\_tensor.py:522\u001b[0m, in \u001b[0;36mTensor.backward\u001b[1;34m(self, gradient, retain_graph, create_graph, inputs)\u001b[0m\n\u001b[0;32m    512\u001b[0m \u001b[38;5;28;01mif\u001b[39;00m has_torch_function_unary(\u001b[38;5;28mself\u001b[39m):\n\u001b[0;32m    513\u001b[0m     \u001b[38;5;28;01mreturn\u001b[39;00m handle_torch_function(\n\u001b[0;32m    514\u001b[0m         Tensor\u001b[38;5;241m.\u001b[39mbackward,\n\u001b[0;32m    515\u001b[0m         (\u001b[38;5;28mself\u001b[39m,),\n\u001b[1;32m   (...)\u001b[0m\n\u001b[0;32m    520\u001b[0m         inputs\u001b[38;5;241m=\u001b[39minputs,\n\u001b[0;32m    521\u001b[0m     )\n\u001b[1;32m--> 522\u001b[0m torch\u001b[38;5;241m.\u001b[39mautograd\u001b[38;5;241m.\u001b[39mbackward(\n\u001b[0;32m    523\u001b[0m     \u001b[38;5;28mself\u001b[39m, gradient, retain_graph, create_graph, inputs\u001b[38;5;241m=\u001b[39minputs\n\u001b[0;32m    524\u001b[0m )\n",
      "File \u001b[1;32m~\\anaconda3\\Lib\\site-packages\\torch\\autograd\\__init__.py:266\u001b[0m, in \u001b[0;36mbackward\u001b[1;34m(tensors, grad_tensors, retain_graph, create_graph, grad_variables, inputs)\u001b[0m\n\u001b[0;32m    261\u001b[0m     retain_graph \u001b[38;5;241m=\u001b[39m create_graph\n\u001b[0;32m    263\u001b[0m \u001b[38;5;66;03m# The reason we repeat the same comment below is that\u001b[39;00m\n\u001b[0;32m    264\u001b[0m \u001b[38;5;66;03m# some Python versions print out the first line of a multi-line function\u001b[39;00m\n\u001b[0;32m    265\u001b[0m \u001b[38;5;66;03m# calls in the traceback and some print out the last line\u001b[39;00m\n\u001b[1;32m--> 266\u001b[0m Variable\u001b[38;5;241m.\u001b[39m_execution_engine\u001b[38;5;241m.\u001b[39mrun_backward(  \u001b[38;5;66;03m# Calls into the C++ engine to run the backward pass\u001b[39;00m\n\u001b[0;32m    267\u001b[0m     tensors,\n\u001b[0;32m    268\u001b[0m     grad_tensors_,\n\u001b[0;32m    269\u001b[0m     retain_graph,\n\u001b[0;32m    270\u001b[0m     create_graph,\n\u001b[0;32m    271\u001b[0m     inputs,\n\u001b[0;32m    272\u001b[0m     allow_unreachable\u001b[38;5;241m=\u001b[39m\u001b[38;5;28;01mTrue\u001b[39;00m,\n\u001b[0;32m    273\u001b[0m     accumulate_grad\u001b[38;5;241m=\u001b[39m\u001b[38;5;28;01mTrue\u001b[39;00m,\n\u001b[0;32m    274\u001b[0m )\n",
      "\u001b[1;31mKeyboardInterrupt\u001b[0m: "
     ]
    }
   ],
   "source": [
    "for i in range(10000):\n",
    "    if (i%500 == 0):\n",
    "        print(\"EPOCH \", i)\n",
    "    params = iteration(train_X, train_Y, params, len(layers_dims)-1, 0.01, (i%500 == 0))\n",
    "    if (i%500 == 0):\n",
    "        predict(train_X, train_Y, params, len(layers_dims)-1, \"training\")\n",
    "        predict(test_X, test_Y, params, len(layers_dims)-1, \"testing\")"
   ]
  }
 ],
 "metadata": {
  "kernelspec": {
   "display_name": "Python 3 (ipykernel)",
   "language": "python",
   "name": "python3"
  },
  "language_info": {
   "codemirror_mode": {
    "name": "ipython",
    "version": 3
   },
   "file_extension": ".py",
   "mimetype": "text/x-python",
   "name": "python",
   "nbconvert_exporter": "python",
   "pygments_lexer": "ipython3",
   "version": "3.11.7"
  }
 },
 "nbformat": 4,
 "nbformat_minor": 5
}
