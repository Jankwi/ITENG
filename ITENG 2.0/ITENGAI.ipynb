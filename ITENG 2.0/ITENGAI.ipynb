{
 "cells": [
  {
   "cell_type": "code",
   "execution_count": 1,
   "id": "0020fc5d-b2ae-4580-935e-05ceba239517",
   "metadata": {
    "tags": []
   },
   "outputs": [],
   "source": [
    "import torch\n",
    "import pandas as pd"
   ]
  },
  {
   "cell_type": "code",
   "execution_count": 2,
   "id": "f20f40cd-b770-40bd-832d-3f3e95a9c2ef",
   "metadata": {
    "tags": []
   },
   "outputs": [],
   "source": [
    "def import_data(file_name):\n",
    "    data = pd.read_csv(file_name)\n",
    "    print(data.shape)\n",
    "    tensor = torch.tensor(data.values)\n",
    "    tensor = tensor.float()\n",
    "    return tensor\n",
    "def normalize(X):\n",
    "    return X/100"
   ]
  },
  {
   "cell_type": "code",
   "execution_count": 3,
   "id": "1830f3fd-a136-438c-b103-a626b3d7596f",
   "metadata": {
    "tags": []
   },
   "outputs": [],
   "source": [
    "def custom_rand(a, b):\n",
    "    X = torch.rand(a, b)\n",
    "    return (2*X-1)\n",
    "def init_params(layers_dims):\n",
    "    params = dict()\n",
    "    for i in range(1, len(layers_dims)):\n",
    "        print(i)\n",
    "        params['W' + str(i)] = custom_rand(layers_dims[i-1], layers_dims[i])\n",
    "        params['b' + str(i)] = custom_rand(1, layers_dims[i])\n",
    "    return params"
   ]
  },
  {
   "cell_type": "code",
   "execution_count": 4,
   "id": "d21f92f9-2afe-4cd4-b0da-e6a709f0554d",
   "metadata": {
    "tags": []
   },
   "outputs": [],
   "source": [
    "def sigmoid(X):\n",
    "    Z = 1/(1 + torch.exp(-X))\n",
    "    return Z"
   ]
  },
  {
   "cell_type": "code",
   "execution_count": 5,
   "id": "52cf4998-b42d-407f-9ee2-9bed6746a6ac",
   "metadata": {
    "tags": []
   },
   "outputs": [],
   "source": [
    "def grads_on(params):\n",
    "    for key in params:\n",
    "        params[key].requires_grad = True\n",
    "    return params\n",
    "def update_params(params, step_size):\n",
    "    for key in params:\n",
    "        with torch.no_grad():\n",
    "            if(params[key].requires_grad == False):\n",
    "                print(\"ERROOOOOOOOOORRR REQUIRES GRAD SET TO 0\")\n",
    "            params[key] -= step_size * params[key].grad\n",
    "            params[key].grad.zero_()\n",
    "\n",
    "    return params"
   ]
  },
  {
   "cell_type": "code",
   "execution_count": 6,
   "id": "54bacfe5-c5f0-4f97-aab5-2e86f7eaa08a",
   "metadata": {
    "tags": []
   },
   "outputs": [],
   "source": [
    "def iteration(X, Y, params, L, step_size, print_cost):\n",
    "    params = grads_on(params)\n",
    "    A = X\n",
    "    m = X.shape[0]\n",
    "    for l in range(1, L):\n",
    "        Z = A@params['W' + str(l)] + params['b' + str(l)]\n",
    "        A = torch.tanh(Z)\n",
    "    Z = A@params['W' + str(L)] + params['b' + str(L)]\n",
    "    A = sigmoid(Z)\n",
    "    A = torch.clamp(A, min=1e-8)\n",
    "    A = torch.clamp(A, max=1 - 1e-8)\n",
    "    loss_table = -(Y*torch.log(A) + (1-Y)*torch.log(1-A))\n",
    "    cost = loss_table.sum()/m\n",
    "    if print_cost:\n",
    "        print(\"THE CURRENT COST IS \", cost.item())\n",
    "   # with torch.autograd.detect_anomaly():\n",
    "    cost.backward()\n",
    "    return update_params(params, step_size)"
   ]
  },
  {
   "cell_type": "code",
   "execution_count": 7,
   "id": "77ee832d-6d16-46a6-812d-977f7d113e16",
   "metadata": {
    "tags": []
   },
   "outputs": [],
   "source": [
    "def predict(X, Y, params, L, str_type):\n",
    "    A = X\n",
    "    m = X.shape[0]\n",
    "    for l in range(1, L):\n",
    "        Z = A@params['W' + str(l)] + params['b' + str(l)]\n",
    "        A = torch.tanh(Z)\n",
    "    Z = A@params['W' + str(L)] + params['b' + str(L)]\n",
    "    A = sigmoid(Z)\n",
    "    #print(\"AAAAAAAAAAAA \", A)\n",
    "    \n",
    "    loss_table = -(Y*torch.log(A) + (1-Y)*torch.log(1-A))\n",
    "    cost = loss_table.sum()/m\n",
    "    Y_hat = torch.ceil(A/0.5) - 1\n",
    "    incorrect = torch.abs(Y_hat - Y)\n",
    "    gg = m - incorrect.sum()\n",
    "    #print(\"THE TESTING COST IS \", cost.item())\n",
    "    #print(\"The Model made \", gg.item(), \" good predictions\")\n",
    "    print(\"(\", 100*gg.item()/m, \"%\", str_type,\"accuracy)\")"
   ]
  },
  {
   "cell_type": "code",
   "execution_count": 8,
   "id": "da8765e7-fd38-4a08-976f-ecfa87707d06",
   "metadata": {
    "tags": []
   },
   "outputs": [
    {
     "name": "stdout",
     "output_type": "stream",
     "text": [
      "1\n",
      "2\n",
      "3\n"
     ]
    }
   ],
   "source": [
    "layers_dims = [780, 60, 50, 1]\n",
    "params = init_params(layers_dims)\n",
    "#print(params)"
   ]
  },
  {
   "cell_type": "code",
   "execution_count": 9,
   "id": "bea41b4a-9fff-4141-8bfe-a5ab2f81184a",
   "metadata": {
    "tags": []
   },
   "outputs": [
    {
     "name": "stdout",
     "output_type": "stream",
     "text": [
      "(2700, 780)\n",
      "(2700, 1)\n",
      "(2000, 780)\n",
      "(2000, 1)\n"
     ]
    }
   ],
   "source": [
    "train_X = import_data(\"train_X.csv\")\n",
    "train_Y = import_data(\"train_Y.csv\")\n",
    "test_X = import_data(\"test_X.csv\")\n",
    "test_Y = import_data(\"test_Y.csv\")"
   ]
  },
  {
   "cell_type": "code",
   "execution_count": 10,
   "id": "c03c0f90-86d9-4332-983f-f3851220008e",
   "metadata": {
    "tags": []
   },
   "outputs": [
    {
     "name": "stdout",
     "output_type": "stream",
     "text": [
      "THE CURRENT COST IS  1.7054636478424072\n"
     ]
    }
   ],
   "source": [
    "params = iteration(train_X, train_Y, params, len(layers_dims)-1, 0.000001, 1)"
   ]
  },
  {
   "cell_type": "code",
   "execution_count": 11,
   "id": "1ac19dbe-d1c3-4b82-a886-83df7e0b737a",
   "metadata": {
    "tags": []
   },
   "outputs": [
    {
     "name": "stdout",
     "output_type": "stream",
     "text": [
      "EPOCH  0\n",
      "THE CURRENT COST IS  1.7054632902145386\n",
      "( 50.77777777777778 % training accuracy)\n",
      "( 53.1 % testing accuracy)\n",
      "EPOCH  2500\n",
      "THE CURRENT COST IS  0.5592285394668579\n",
      "( 71.25925925925925 % training accuracy)\n",
      "( 60.35 % testing accuracy)\n",
      "EPOCH  5000\n",
      "THE CURRENT COST IS  0.4537578523159027\n",
      "( 79.48148148148148 % training accuracy)\n",
      "( 62.4 % testing accuracy)\n",
      "EPOCH  7500\n",
      "THE CURRENT COST IS  0.3605955243110657\n",
      "( 85.77777777777777 % training accuracy)\n",
      "( 63.8 % testing accuracy)\n",
      "EPOCH  10000\n",
      "THE CURRENT COST IS  0.27388960123062134\n",
      "( 91.03703703703704 % training accuracy)\n",
      "( 64.45 % testing accuracy)\n",
      "EPOCH  12500\n",
      "THE CURRENT COST IS  0.19980952143669128\n",
      "( 94.62962962962963 % training accuracy)\n",
      "( 65.05 % testing accuracy)\n",
      "EPOCH  15000\n",
      "THE CURRENT COST IS  0.14253021776676178\n",
      "( 96.85185185185185 % training accuracy)\n",
      "( 65.6 % testing accuracy)\n",
      "EPOCH  17500\n",
      "THE CURRENT COST IS  0.1024007648229599\n",
      "( 98.5925925925926 % training accuracy)\n",
      "( 65.9 % testing accuracy)\n",
      "EPOCH  20000\n",
      "THE CURRENT COST IS  0.07510305196046829\n",
      "( 99.29629629629629 % training accuracy)\n",
      "( 66.15 % testing accuracy)\n"
     ]
    }
   ],
   "source": [
    "for i in range(20*1000 + 1):\n",
    "    if (i%2500 == 0):\n",
    "        print(\"EPOCH \", i)\n",
    "    params = iteration(train_X, train_Y, params, len(layers_dims)-1, 0.01, (i%2500 == 0))\n",
    "    if (i%2500 == 0):\n",
    "        predict(train_X, train_Y, params, len(layers_dims)-1, \"training\")\n",
    "        predict(test_X, test_Y, params, len(layers_dims)-1, \"testing\")"
   ]
  }
 ],
 "metadata": {
  "kernelspec": {
   "display_name": "Python 3 (ipykernel)",
   "language": "python",
   "name": "python3"
  },
  "language_info": {
   "codemirror_mode": {
    "name": "ipython",
    "version": 3
   },
   "file_extension": ".py",
   "mimetype": "text/x-python",
   "name": "python",
   "nbconvert_exporter": "python",
   "pygments_lexer": "ipython3",
   "version": "3.11.7"
  }
 },
 "nbformat": 4,
 "nbformat_minor": 5
}
